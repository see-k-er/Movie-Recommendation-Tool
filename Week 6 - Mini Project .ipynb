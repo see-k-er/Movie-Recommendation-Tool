{
 "cells": [
  {
   "cell_type": "markdown",
   "metadata": {},
   "source": [
    "# MINI PROJECT\n"
   ]
  },
  {
   "cell_type": "markdown",
   "metadata": {},
   "source": [
    "To find the preferred genre of a a given user, based on the ratings given to a set of movies that the particular user has seen. Classify the preferred genres of that particular user. This can help in suggesting movies to the user, which the user may prefer to watch."
   ]
  },
  {
   "cell_type": "code",
   "execution_count": 1,
   "metadata": {},
   "outputs": [],
   "source": [
    "import pandas as pd\n",
    "import numpy as np\n",
    "import matplotlib as plot"
   ]
  },
  {
   "cell_type": "code",
   "execution_count": 2,
   "metadata": {},
   "outputs": [],
   "source": [
    "#importing the csv files\n",
    "movies = pd.read_csv('movies.csv', sep = ',')\n",
    "ratings = pd.read_csv('ratings.csv', sep = ',')"
   ]
  },
  {
   "cell_type": "markdown",
   "metadata": {},
   "source": [
    "Getting the userid input from the user"
   ]
  },
  {
   "cell_type": "code",
   "execution_count": 19,
   "metadata": {},
   "outputs": [
    {
     "name": "stdout",
     "output_type": "stream",
     "text": [
      "Enter the userid: 578\n"
     ]
    }
   ],
   "source": [
    "userid = int(input('Enter the userid: '))"
   ]
  },
  {
   "cell_type": "code",
   "execution_count": 4,
   "metadata": {},
   "outputs": [],
   "source": [
    "#deleting timestamp as its not necessary as of now\n",
    "del ratings['timestamp']"
   ]
  },
  {
   "cell_type": "code",
   "execution_count": 20,
   "metadata": {},
   "outputs": [],
   "source": [
    "#filtering the ratings based on required userId\n",
    "filterid = ratings[ratings['userId'] == userid]"
   ]
  },
  {
   "cell_type": "code",
   "execution_count": 21,
   "metadata": {},
   "outputs": [],
   "source": [
    "#filtering the desired userId based on ratings >= 3.5 out of 5\n",
    "filterrate = filterid[filterid['rating'] >= 3.5]"
   ]
  },
  {
   "cell_type": "code",
   "execution_count": 22,
   "metadata": {},
   "outputs": [],
   "source": [
    "#Merging the movie title with the ratings df\n",
    "dfuid = filterrate.merge(movies, on = 'movieId', how = 'inner')"
   ]
  },
  {
   "cell_type": "code",
   "execution_count": 23,
   "metadata": {},
   "outputs": [],
   "source": [
    "sp = movies['genres'].str.split('|')#to list all the genres available\n",
    "L = np.array(sp.values.tolist()).ravel().tolist() #to convert into list of lists of 1D array\n",
    "all_genre = set(sum(L,[])) #to combine the lists into a single list. The set operation returns only the unique values of the list."
   ]
  },
  {
   "cell_type": "code",
   "execution_count": 24,
   "metadata": {},
   "outputs": [],
   "source": [
    "#to find the genres specific only to the required userId\n",
    "temp = dfuid.genres.str.split(\"|\").tolist() # this will return a list of lists for all the genres\n",
    "\n",
    "import functools\n",
    "import operator\n",
    "\n",
    "unique_genres = set(functools.reduce(operator.concat, temp)) #this will flatten the list of lists and ultimately call the set to get the unique genres. Use len to get the number of unique genres afterwards"
   ]
  },
  {
   "cell_type": "code",
   "execution_count": 25,
   "metadata": {},
   "outputs": [],
   "source": [
    "genre_df = pd.DataFrame(unique_genres, columns = ['Genre']) #to store the unique genres in a df"
   ]
  },
  {
   "cell_type": "code",
   "execution_count": 26,
   "metadata": {},
   "outputs": [],
   "source": [
    "tempgen = sum(temp,[]) #to obtain a list of all the genres of the movies watched by the user(has repetition)"
   ]
  },
  {
   "cell_type": "code",
   "execution_count": 27,
   "metadata": {},
   "outputs": [],
   "source": [
    "#to obtain a count of the different unique genres, which is stored as a list in countgen\n",
    "countgen = []\n",
    "for i in unique_genres:\n",
    "    countgen.append(tempgen.count(i))"
   ]
  },
  {
   "cell_type": "code",
   "execution_count": 28,
   "metadata": {},
   "outputs": [],
   "source": [
    "countgen = pd.DataFrame(countgen, columns = ['Count']) #countgen; list --> datafram"
   ]
  },
  {
   "cell_type": "code",
   "execution_count": 29,
   "metadata": {},
   "outputs": [],
   "source": [
    "newdf = pd.concat([genre_df, countgen], axis = 1, join = 'inner') #joining the 2 dataframes for final analysis"
   ]
  },
  {
   "cell_type": "code",
   "execution_count": 30,
   "metadata": {},
   "outputs": [],
   "source": [
    "var = max(newdf['Count']) #max viewed genre count\n",
    "ind = newdf[newdf['Count'] == var].index #returns the index for var"
   ]
  },
  {
   "cell_type": "code",
   "execution_count": 31,
   "metadata": {},
   "outputs": [],
   "source": [
    "#to find the most preferred genre of the user\n",
    "percent = 0.2*var #to find movies within a 20% margin from the most viewed genre\n",
    "range_gen = var - percent\n",
    "pref = newdf[newdf['Count']>= (range_gen)]"
   ]
  },
  {
   "cell_type": "code",
   "execution_count": 32,
   "metadata": {},
   "outputs": [],
   "source": [
    "#Obtaining the corresponding preferred genres\n",
    "t = pref['Genre'].tolist()\n",
    "#t = newdf.iloc[ind]\n",
    "#fin_gen = t['Genre'].tolist()\n",
    "fin_gen = ', '.join(t) #converts list to string"
   ]
  },
  {
   "cell_type": "code",
   "execution_count": 33,
   "metadata": {},
   "outputs": [
    {
     "name": "stdout",
     "output_type": "stream",
     "text": [
      "The most preferred genres of user 578 is/are: Comedy\n"
     ]
    }
   ],
   "source": [
    "print('The most preferred genres of user', userid, 'is/are:', fin_gen) #prints the final conclusion of this project."
   ]
  },
  {
   "cell_type": "code",
   "execution_count": 40,
   "metadata": {},
   "outputs": [
    {
     "data": {
      "image/png": "[encoded data removed]",
      "text/plain": [
       "<Figure size 432x288 with 1 Axes>"
      ]
     },
     "metadata": {
      "needs_background": "light"
     },
     "output_type": "display_data"
    }
   ],
   "source": [
    "#to plot a graph between the genres and their view count\n",
    "import matplotlib.pyplot as plt \n",
    "\n",
    "x = newdf['Count'].values\n",
    "y = newdf['Genre'].values\n",
    "\n",
    "plt.ylabel('Genres')\n",
    "plt.xlabel('View Count')\n",
    "\n",
    "plt.title('Most preferred genres of user: %s' %userid)\n",
    "\n",
    "plt.barh(y,x, color = 'blue') #gives a horizontal plot\n",
    "plt.show()"
   ]
  },
  {
   "cell_type": "code",
   "execution_count": 35,
   "metadata": {},
   "outputs": [],
   "source": [
    "idlist = dfuid['movieId'].tolist() #to list the movies that the user has watched."
   ]
  },
  {
   "cell_type": "code",
   "execution_count": 36,
   "metadata": {},
   "outputs": [],
   "source": [
    "mov = movies[~movies.movieId.isin(idlist)] #to obtain a df of the list of movies that the user has not watched"
   ]
  },
  {
   "cell_type": "code",
   "execution_count": 37,
   "metadata": {},
   "outputs": [],
   "source": [
    "mov_not = mov[mov.genres.isin(t)] #to list the movies not watched under preferred genre"
   ]
  },
  {
   "cell_type": "code",
   "execution_count": 38,
   "metadata": {},
   "outputs": [],
   "source": [
    "mov_not.reset_index(drop=True, inplace = True)#to reset the index"
   ]
  },
  {
   "cell_type": "code",
   "execution_count": 39,
   "metadata": {},
   "outputs": [
    {
     "name": "stdout",
     "output_type": "stream",
     "text": [
      "The movies recommended to user 578  are the following:\n"
     ]
    },
    {
     "data": {
      "text/html": [
       "<div>\n",
       "<style scoped>\n",
       "    .dataframe tbody tr th:only-of-type {\n",
       "        vertical-align: middle;\n",
       "    }\n",
       "\n",
       "    .dataframe tbody tr th {\n",
       "        vertical-align: top;\n",
       "    }\n",
       "\n",
       "    .dataframe thead th {\n",
       "        text-align: right;\n",
       "    }\n",
       "</style>\n",
       "<table border=\"1\" class=\"dataframe\">\n",
       "  <thead>\n",
       "    <tr style=\"text-align: right;\">\n",
       "      <th></th>\n",
       "      <th>movieId</th>\n",
       "      <th>title</th>\n",
       "      <th>genres</th>\n",
       "    </tr>\n",
       "  </thead>\n",
       "  <tbody>\n",
       "    <tr>\n",
       "      <th>0</th>\n",
       "      <td>18</td>\n",
       "      <td>Four Rooms (1995)</td>\n",
       "      <td>Comedy</td>\n",
       "    </tr>\n",
       "    <tr>\n",
       "      <th>1</th>\n",
       "      <td>19</td>\n",
       "      <td>Ace Ventura: When Nature Calls (1995)</td>\n",
       "      <td>Comedy</td>\n",
       "    </tr>\n",
       "    <tr>\n",
       "      <th>2</th>\n",
       "      <td>65</td>\n",
       "      <td>Bio-Dome (1996)</td>\n",
       "      <td>Comedy</td>\n",
       "    </tr>\n",
       "    <tr>\n",
       "      <th>3</th>\n",
       "      <td>69</td>\n",
       "      <td>Friday (1995)</td>\n",
       "      <td>Comedy</td>\n",
       "    </tr>\n",
       "    <tr>\n",
       "      <th>4</th>\n",
       "      <td>88</td>\n",
       "      <td>Black Sheep (1996)</td>\n",
       "      <td>Comedy</td>\n",
       "    </tr>\n",
       "  </tbody>\n",
       "</table>\n",
       "</div>"
      ],
      "text/plain": [
       "   movieId                                  title  genres\n",
       "0       18                      Four Rooms (1995)  Comedy\n",
       "1       19  Ace Ventura: When Nature Calls (1995)  Comedy\n",
       "2       65                        Bio-Dome (1996)  Comedy\n",
       "3       69                          Friday (1995)  Comedy\n",
       "4       88                     Black Sheep (1996)  Comedy"
      ]
     },
     "execution_count": 39,
     "metadata": {},
     "output_type": "execute_result"
    }
   ],
   "source": [
    "print('The movies recommended to user', userid, ' are the following:')\n",
    "mov_not.head()"
   ]
  },
  {
   "cell_type": "code",
   "execution_count": null,
   "metadata": {},
   "outputs": [],
   "source": []
  }
 ],
 "metadata": {
  "kernelspec": {
   "display_name": "Python 3",
   "language": "python",
   "name": "python3"
  },
  "language_info": {
   "codemirror_mode": {
    "name": "ipython",
    "version": 3
   },
   "file_extension": ".py",
   "mimetype": "text/x-python",
   "name": "python",
   "nbconvert_exporter": "python",
   "pygments_lexer": "ipython3",
   "version": "3.7.3"
  }
 },
 "nbformat": 4,
 "nbformat_minor": 2
}
